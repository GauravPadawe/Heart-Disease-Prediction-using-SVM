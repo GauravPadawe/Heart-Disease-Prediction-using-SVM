{
 "cells": [
  {
   "cell_type": "markdown",
   "metadata": {},
   "source": [
    "# Heart Disease Prediction by using Support Vector Machine\n",
    "\n",
    "#### Analysis & Modelling done by Gaurav S. Padawe \n",
    "\n",
    "### Domain : Healthcare\n",
    "\n",
    "**Download : https://archive.ics.uci.edu/ml/datasets/Heart+Disease**\n",
    "\n",
    "### Source :\n",
    "\n",
    "#### Creators : \n",
    "\n",
    "1. Hungarian Institute of Cardiology. Budapest: Andras Janosi, M.D. \n",
    "2. University Hospital, Zurich, Switzerland: William Steinbrunn, M.D. \n",
    "3. University Hospital, Basel, Switzerland: Matthias Pfisterer, M.D. \n",
    "4. V.A. Medical Center, Long Beach and Cleveland Clinic Foundation: Robert Detrano, M.D., Ph.D. \n",
    "\n",
    "#### Donor : \n",
    "\n",
    "David W. Aha (aha '@' ics.uci.edu) (714) 856-8779\n",
    "\n",
    "#### Data Set Information :\n",
    "\n",
    "- This database contains 76 attributes, but all published experiments refer to using a subset of 14 of them. In particular, the Cleveland database is the only one that has been used by ML researchers to this date. The \"goal\" field refers to the presence of heart disease in the patient. It is integer valued from 0 (no presence) to 4. Experiments with the Cleveland database have concentrated on simply attempting to distinguish presence (values 1,2,3,4) from absence (value 0). \n",
    "\n",
    "- The names and social security numbers of the patients were recently removed from the database, replaced with dummy values. \n",
    "\n",
    "- One file has been \"processed\", that one containing the Cleveland database. All four unprocessed files also exist in this directory. \n",
    "\n",
    "- To see Test Costs (donated by Peter Turney), please see the folder \"Costs\"\n",
    "\n",
    "### Attribute Information :\n",
    "\n",
    "Only 14 attributes used: \n",
    "<b>\n",
    "1. #3 (age) \n",
    "2. #4 (sex) \n",
    "3. #9 (cp) \n",
    "4. #10 (trestbps) \n",
    "5. #12 (chol) \n",
    "6. #16 (fbs) \n",
    "7. #19 (restecg) \n",
    "8. #32 (thalach) \n",
    "9. #38 (exang) \n",
    "10. #40 (oldpeak) \n",
    "11. #41 (slope) \n",
    "12. #44 (ca) \n",
    "13. #51 (thal) \n",
    "14. #58 (num) (the predicted attribute)</b>\n",
    "\n",
    "### Complete attribute documentation :<br>\n",
    "\n",
    "<b>\n",
    "- age: age in years\n",
    "\n",
    "\n",
    "- sex: sex (1 = male; 0 = female) \n",
    "\n",
    "\n",
    "- cp: chest pain type\n",
    "    - Value 1: typical angina \n",
    "    - Value 2: atypical angina \n",
    "    - Value 3: non-anginal pain \n",
    "    - Value 4: asymptomatic \n",
    "\n",
    "\n",
    "- trestbps: resting blood pressure (in mm Hg on admission to the hospital) \n",
    "\n",
    "\n",
    "- chol: serum cholestoral in mg/dl\n",
    "\n",
    "\n",
    "- fbs: (fasting blood sugar > 120 mg/dl) (1 = true; 0 = false)\n",
    "\n",
    "\n",
    "- restecg: resting electrocardiographic results \n",
    "    - Value 0: normal \n",
    "    - Value 1: having ST-T wave abnormality (T wave inversions and/or ST elevation or depression of > 0.05 mV) \n",
    "    - Value 2: showing probable or definite left ventricular hypertrophy by Estes' criteria\n",
    "\n",
    "\n",
    "- thalach: maximum heart rate achieved\n",
    "\n",
    "\n",
    "- exang: exercise induced angina (1 = yes; 0 = no) \n",
    "\n",
    "\n",
    "- oldpeak = ST depression induced by exercise relative to rest \n",
    "\n",
    "\n",
    "- slope: the slope of the peak exercise ST segment \n",
    "    - Value 1: upsloping \n",
    "    - Value 2: flat \n",
    "    - Value 3: downsloping\n",
    "\n",
    "\n",
    "- ca: number of major vessels (0-3) colored by flourosopy\n",
    "\n",
    "\n",
    "- num: diagnosis of heart disease (angiographic disease status) \n",
    "    - Value 0: < 50% diameter narrowing \n",
    "    - Value 1: > 50% diameter narrowing (in any major vessel: attributes 59 through 68 are vessels)\n",
    "\n",
    "### Questionnaire :\n",
    "\n",
    "- What Age group do we've in our data ?\n",
    "\n",
    "- If we've missing values, What approach we can take ?\n",
    "\n",
    "- Since, this is a Classification Problem will we get to see multi-class Imbalance ? If so , what approach we can take ?\n",
    "\n",
    "\n",
    "### Objective :\n",
    "\n",
    "- To analyze and build model for Switzerland dataset.\n",
    "- First I'll do Data processing followed by EDA.\n",
    "- My aim is to make a statistical model with the help of SVM Classifier which will predict the vulnerability of heart disease for given patient(s) data."
   ]
  },
  {
   "cell_type": "markdown",
   "metadata": {},
   "source": [
    "### Importing required Modules"
   ]
  },
  {
   "cell_type": "code",
   "execution_count": 0,
   "metadata": {
    "colab": {},
    "colab_type": "code",
    "id": "qTD9WLXVuubL"
   },
   "outputs": [],
   "source": [
    "import numpy as np\n",
    "import pandas as pd\n",
    "import seaborn as sns\n",
    "import matplotlib.pyplot as plt"
   ]
  },
  {
   "cell_type": "code",
   "execution_count": 3,
   "metadata": {
    "colab": {
     "base_uri": "https://localhost:8080/",
     "height": 197
    },
    "colab_type": "code",
    "id": "jxRa-QgYxfA8",
    "outputId": "14116249-2a76-499f-ff43-1fe303db29a6",
    "scrolled": true
   },
   "outputs": [
    {
     "data": {
      "text/html": [
       "<div>\n",
       "<style scoped>\n",
       "    .dataframe tbody tr th:only-of-type {\n",
       "        vertical-align: middle;\n",
       "    }\n",
       "\n",
       "    .dataframe tbody tr th {\n",
       "        vertical-align: top;\n",
       "    }\n",
       "\n",
       "    .dataframe thead th {\n",
       "        text-align: right;\n",
       "    }\n",
       "</style>\n",
       "<table border=\"1\" class=\"dataframe\">\n",
       "  <thead>\n",
       "    <tr style=\"text-align: right;\">\n",
       "      <th></th>\n",
       "      <th>age</th>\n",
       "      <th>sex</th>\n",
       "      <th>cp</th>\n",
       "      <th>trestbps</th>\n",
       "      <th>chol</th>\n",
       "      <th>fbs</th>\n",
       "      <th>restecg</th>\n",
       "      <th>thalach</th>\n",
       "      <th>exang</th>\n",
       "      <th>oldpeak</th>\n",
       "      <th>slope</th>\n",
       "      <th>ca</th>\n",
       "      <th>thal</th>\n",
       "      <th>num</th>\n",
       "    </tr>\n",
       "  </thead>\n",
       "  <tbody>\n",
       "    <tr>\n",
       "      <th>0</th>\n",
       "      <td>32</td>\n",
       "      <td>1</td>\n",
       "      <td>1</td>\n",
       "      <td>95</td>\n",
       "      <td>0</td>\n",
       "      <td>NaN</td>\n",
       "      <td>0</td>\n",
       "      <td>127</td>\n",
       "      <td>0</td>\n",
       "      <td>.7</td>\n",
       "      <td>1</td>\n",
       "      <td>NaN</td>\n",
       "      <td>NaN</td>\n",
       "      <td>1</td>\n",
       "    </tr>\n",
       "    <tr>\n",
       "      <th>1</th>\n",
       "      <td>34</td>\n",
       "      <td>1</td>\n",
       "      <td>4</td>\n",
       "      <td>115</td>\n",
       "      <td>0</td>\n",
       "      <td>NaN</td>\n",
       "      <td>NaN</td>\n",
       "      <td>154</td>\n",
       "      <td>0</td>\n",
       "      <td>.2</td>\n",
       "      <td>1</td>\n",
       "      <td>NaN</td>\n",
       "      <td>NaN</td>\n",
       "      <td>1</td>\n",
       "    </tr>\n",
       "    <tr>\n",
       "      <th>2</th>\n",
       "      <td>35</td>\n",
       "      <td>1</td>\n",
       "      <td>4</td>\n",
       "      <td>NaN</td>\n",
       "      <td>0</td>\n",
       "      <td>NaN</td>\n",
       "      <td>0</td>\n",
       "      <td>130</td>\n",
       "      <td>1</td>\n",
       "      <td>NaN</td>\n",
       "      <td>NaN</td>\n",
       "      <td>NaN</td>\n",
       "      <td>7</td>\n",
       "      <td>3</td>\n",
       "    </tr>\n",
       "    <tr>\n",
       "      <th>3</th>\n",
       "      <td>36</td>\n",
       "      <td>1</td>\n",
       "      <td>4</td>\n",
       "      <td>110</td>\n",
       "      <td>0</td>\n",
       "      <td>NaN</td>\n",
       "      <td>0</td>\n",
       "      <td>125</td>\n",
       "      <td>1</td>\n",
       "      <td>1</td>\n",
       "      <td>2</td>\n",
       "      <td>NaN</td>\n",
       "      <td>6</td>\n",
       "      <td>1</td>\n",
       "    </tr>\n",
       "    <tr>\n",
       "      <th>4</th>\n",
       "      <td>38</td>\n",
       "      <td>0</td>\n",
       "      <td>4</td>\n",
       "      <td>105</td>\n",
       "      <td>0</td>\n",
       "      <td>NaN</td>\n",
       "      <td>0</td>\n",
       "      <td>166</td>\n",
       "      <td>0</td>\n",
       "      <td>2.8</td>\n",
       "      <td>1</td>\n",
       "      <td>NaN</td>\n",
       "      <td>NaN</td>\n",
       "      <td>2</td>\n",
       "    </tr>\n",
       "  </tbody>\n",
       "</table>\n",
       "</div>"
      ],
      "text/plain": [
       "   age  sex  cp trestbps  chol  fbs  ... exang oldpeak slope   ca thal num\n",
       "0   32    1   1       95     0  NaN  ...     0      .7     1  NaN  NaN   1\n",
       "1   34    1   4      115     0  NaN  ...     0      .2     1  NaN  NaN   1\n",
       "2   35    1   4      NaN     0  NaN  ...     1     NaN   NaN  NaN    7   3\n",
       "3   36    1   4      110     0  NaN  ...     1       1     2  NaN    6   1\n",
       "4   38    0   4      105     0  NaN  ...     0     2.8     1  NaN  NaN   2\n",
       "\n",
       "[5 rows x 14 columns]"
      ]
     },
     "execution_count": 3,
     "metadata": {
      "tags": []
     },
     "output_type": "execute_result"
    }
   ],
   "source": [
    "data = pd.read_csv('switzerland.data', names=['age', 'sex', 'cp', 'trestbps', 'chol', 'fbs', 'restecg', 'thalach', 'exang', 'oldpeak', 'slope', 'ca', 'thal', 'num'])\n",
    "data.replace('?', np.nan, inplace=True)\n",
    "data.head()"
   ]
  },
  {
   "cell_type": "markdown",
   "metadata": {},
   "source": [
    "### Data Cleansing and Processing¶"
   ]
  },
  {
   "cell_type": "code",
   "execution_count": 4,
   "metadata": {
    "colab": {
     "base_uri": "https://localhost:8080/",
     "height": 52
    },
    "colab_type": "code",
    "id": "r8bALozQC2MD",
    "outputId": "b40474ed-d2c0-4c54-d678-65d91c49e469"
   },
   "outputs": [
    {
     "name": "stdout",
     "output_type": "stream",
     "text": [
      "Number of Examples : 123 \n",
      "Number of Features :  14\n"
     ]
    }
   ],
   "source": [
    "#Shape of dataset\n",
    "\n",
    "print ('Number of Examples :', data.shape[0], '\\nNumber of Features : ', data.shape[1])"
   ]
  },
  {
   "cell_type": "markdown",
   "metadata": {},
   "source": [
    "- We can see that our Dataset contains **123 examples / predictors** and **14 features (including Target).**"
   ]
  },
  {
   "cell_type": "code",
   "execution_count": 5,
   "metadata": {
    "colab": {
     "base_uri": "https://localhost:8080/",
     "height": 354
    },
    "colab_type": "code",
    "id": "XmkF5Wqi0Q-5",
    "outputId": "30309c90-17d0-4634-8056-7979a9190dcc"
   },
   "outputs": [
    {
     "name": "stdout",
     "output_type": "stream",
     "text": [
      "<class 'pandas.core.frame.DataFrame'>\n",
      "RangeIndex: 123 entries, 0 to 122\n",
      "Data columns (total 14 columns):\n",
      "age         123 non-null int64\n",
      "sex         123 non-null int64\n",
      "cp          123 non-null int64\n",
      "trestbps    121 non-null object\n",
      "chol        123 non-null int64\n",
      "fbs         48 non-null object\n",
      "restecg     122 non-null object\n",
      "thalach     122 non-null object\n",
      "exang       122 non-null object\n",
      "oldpeak     117 non-null object\n",
      "slope       106 non-null object\n",
      "ca          5 non-null object\n",
      "thal        71 non-null object\n",
      "num         123 non-null int64\n",
      "dtypes: int64(5), object(9)\n",
      "memory usage: 13.5+ KB\n"
     ]
    }
   ],
   "source": [
    "#Let us check datset's attribute info\n",
    "\n",
    "data.info()"
   ]
  },
  {
   "cell_type": "markdown",
   "metadata": {},
   "source": [
    "- Above results shows us that we've :\n",
    "    - **(5) x int64** datatype attributes\n",
    "    - **(9) x object** datatype attributes."
   ]
  },
  {
   "cell_type": "code",
   "execution_count": 6,
   "metadata": {
    "colab": {
     "base_uri": "https://localhost:8080/",
     "height": 283
    },
    "colab_type": "code",
    "id": "3fzxxKbT8jfy",
    "outputId": "ea26db07-8dc9-466c-f164-08718547f624"
   },
   "outputs": [
    {
     "data": {
      "text/plain": [
       "age           0\n",
       "sex           0\n",
       "cp            0\n",
       "trestbps      2\n",
       "chol          0\n",
       "fbs          75\n",
       "restecg       1\n",
       "thalach       1\n",
       "exang         1\n",
       "oldpeak       6\n",
       "slope        17\n",
       "ca          118\n",
       "thal         52\n",
       "num           0\n",
       "dtype: int64"
      ]
     },
     "execution_count": 6,
     "metadata": {
      "tags": []
     },
     "output_type": "execute_result"
    }
   ],
   "source": [
    "#Examining Null values in each feature\n",
    "\n",
    "data.isnull().sum()"
   ]
  },
  {
   "cell_type": "markdown",
   "metadata": {},
   "source": [
    "- We can examine that we got null values in following features :<b>\n",
    "    - trestbps      (2)<br>\n",
    "    - fbs          (75)<br>\n",
    "    - restecg       (1)<br>\n",
    "    - thalach       (1)<br>\n",
    "    - exang         (1)<br>\n",
    "    - oldpeak       (6)<br>\n",
    "    - slope        (17)<br>\n",
    "    - ca          (118)<br>\n",
    "    - thal         (52)<br>"
   ]
  },
  {
   "cell_type": "code",
   "execution_count": 7,
   "metadata": {
    "colab": {
     "base_uri": "https://localhost:8080/",
     "height": 283
    },
    "colab_type": "code",
    "id": "RlUZhMYTCusM",
    "outputId": "a8f36913-6aae-49c2-fa7d-d4e51f402226"
   },
   "outputs": [
    {
     "data": {
      "text/plain": [
       "age          0.000000\n",
       "sex          0.000000\n",
       "cp           0.000000\n",
       "trestbps     1.626016\n",
       "chol         0.000000\n",
       "fbs         60.975610\n",
       "restecg      0.813008\n",
       "thalach      0.813008\n",
       "exang        0.813008\n",
       "oldpeak      4.878049\n",
       "slope       13.821138\n",
       "ca          95.934959\n",
       "thal        42.276423\n",
       "num          0.000000\n",
       "dtype: float64"
      ]
     },
     "execution_count": 7,
     "metadata": {
      "tags": []
     },
     "output_type": "execute_result"
    }
   ],
   "source": [
    "#Let us also check % missing values\n",
    "\n",
    "data.isnull().sum() / data.shape[0] * 100"
   ]
  },
  {
   "cell_type": "markdown",
   "metadata": {},
   "source": [
    "- Percent Missing Values :<b>\n",
    "    - 1.62% trestbps\n",
    "    - 60.9% fbs\n",
    "    - 0.81% restecg\n",
    "    - 0.81% thalach\n",
    "    - 0.81% exang\n",
    "    - 4.87% oldpeak\n",
    "    - 13.8% slope\n",
    "    - 95.9% ca\n",
    "    - 42.2% thal\n",
    "    \n",
    "    \n",
    "    \n",
    "- We'll Fill NAN's of all features with **median** values of that particular feature because **mean / average** filling values approach won't make any sense since we've **discrete** values in some features.\n",
    "\n",
    "\n",
    "- One can also try **Backward / Forward** fill method.\n",
    "\n",
    "\n",
    "- We can observe that **fbs and ca has 60.9% and 95.9% missing values** respectively so we can **drop** these features.\n",
    "\n",
    "\n",
    "- Theoretically, **25 to 30%** is the maximum missing values are allowed, beyond which we might want to drop the variable from analysis."
   ]
  },
  {
   "cell_type": "code",
   "execution_count": 0,
   "metadata": {
    "colab": {},
    "colab_type": "code",
    "id": "qAXPpLW2C-Oe"
   },
   "outputs": [],
   "source": [
    "#Filling missing values with median\n",
    "data['trestbps'].fillna(data['trestbps'].median(), inplace=True)\n",
    "data['oldpeak'].fillna(data['oldpeak'].median(), inplace=True)\n",
    "data['slope'].fillna(int(data['slope'].median()), inplace=True)\n",
    "data['thal'].fillna(int(data['thal'].median()), inplace=True)\n",
    "data['restecg'].fillna(int(data['restecg'].median()), inplace=True)\n",
    "data['thalach'].fillna(data['thalach'].median(), inplace=True)\n",
    "data['exang'].fillna(int(data['exang'].median()), inplace=True)\n",
    "\n",
    "#Replacing similar values\n",
    "data['restecg'].replace([0.0, 0],[0,0], inplace=True)\n",
    "data['slope'].replace([2.0, 2],[2,2], inplace=True)\n",
    "data['thal'].replace([7.0, 7],[7,7], inplace=True)\n",
    "data['exang'].replace([0.0, 0],[0,0], inplace=True)\n",
    "\n",
    "#Changing dtypes\n",
    "data['trestbps'] = data['trestbps'].astype('int')\n",
    "data['oldpeak'] = data['oldpeak'].astype('float')\n",
    "data['slope'] = data['slope'].astype('category')\n",
    "data['thal'] = data['thal'].astype('category')\n",
    "data['restecg'] = data['restecg'].astype('category')\n",
    "data['thalach'] = data['thalach'].astype('int')\n",
    "data['exang'] = data['exang'].astype('category')\n",
    "data['sex'] = data['sex'].astype('category')\n",
    "data['cp'] = data['cp'].astype('category')\n",
    "data['num'] = data['num'].astype('category')"
   ]
  },
  {
   "cell_type": "markdown",
   "metadata": {
    "colab": {
     "base_uri": "https://localhost:8080/",
     "height": 54
    },
    "colab_type": "code",
    "id": "HXeEvFaOpTxa",
    "outputId": "e3a81cac-9ca2-4209-bbf5-05d23a471383"
   },
   "source": [
    "- We had used **median** approach to fill missing values.\n",
    "\n",
    "\n",
    "- Also, we had changed dtype of some features to **\"category\"** type as they have discrete values."
   ]
  },
  {
   "cell_type": "code",
   "execution_count": 10,
   "metadata": {
    "colab": {
     "base_uri": "https://localhost:8080/",
     "height": 283
    },
    "colab_type": "code",
    "id": "URPep4vBfJ9R",
    "outputId": "a845f97a-eb51-4f80-b9a7-a4a4c2fd0318"
   },
   "outputs": [
    {
     "data": {
      "text/plain": [
       "age            int64\n",
       "sex         category\n",
       "cp          category\n",
       "trestbps       int64\n",
       "chol           int64\n",
       "fbs           object\n",
       "restecg     category\n",
       "thalach        int64\n",
       "exang       category\n",
       "oldpeak      float64\n",
       "slope       category\n",
       "ca            object\n",
       "thal        category\n",
       "num         category\n",
       "dtype: object"
      ]
     },
     "execution_count": 10,
     "metadata": {
      "tags": []
     },
     "output_type": "execute_result"
    }
   ],
   "source": [
    "#Identifying dtypes\n",
    "\n",
    "data.dtypes"
   ]
  },
  {
   "cell_type": "code",
   "execution_count": 11,
   "metadata": {
    "colab": {
     "base_uri": "https://localhost:8080/",
     "height": 197
    },
    "colab_type": "code",
    "id": "XLDyPeJRbX7b",
    "outputId": "330b078a-6842-42a2-b1b3-359d2b682a80"
   },
   "outputs": [
    {
     "data": {
      "text/html": [
       "<div>\n",
       "<style scoped>\n",
       "    .dataframe tbody tr th:only-of-type {\n",
       "        vertical-align: middle;\n",
       "    }\n",
       "\n",
       "    .dataframe tbody tr th {\n",
       "        vertical-align: top;\n",
       "    }\n",
       "\n",
       "    .dataframe thead th {\n",
       "        text-align: right;\n",
       "    }\n",
       "</style>\n",
       "<table border=\"1\" class=\"dataframe\">\n",
       "  <thead>\n",
       "    <tr style=\"text-align: right;\">\n",
       "      <th></th>\n",
       "      <th>age</th>\n",
       "      <th>sex</th>\n",
       "      <th>cp</th>\n",
       "      <th>trestbps</th>\n",
       "      <th>restecg</th>\n",
       "      <th>thalach</th>\n",
       "      <th>exang</th>\n",
       "      <th>oldpeak</th>\n",
       "      <th>slope</th>\n",
       "      <th>thal</th>\n",
       "      <th>num</th>\n",
       "    </tr>\n",
       "  </thead>\n",
       "  <tbody>\n",
       "    <tr>\n",
       "      <th>0</th>\n",
       "      <td>32</td>\n",
       "      <td>1</td>\n",
       "      <td>1</td>\n",
       "      <td>95</td>\n",
       "      <td>0</td>\n",
       "      <td>127</td>\n",
       "      <td>0</td>\n",
       "      <td>0.7</td>\n",
       "      <td>1</td>\n",
       "      <td>7</td>\n",
       "      <td>1</td>\n",
       "    </tr>\n",
       "    <tr>\n",
       "      <th>1</th>\n",
       "      <td>34</td>\n",
       "      <td>1</td>\n",
       "      <td>4</td>\n",
       "      <td>115</td>\n",
       "      <td>0</td>\n",
       "      <td>154</td>\n",
       "      <td>0</td>\n",
       "      <td>0.2</td>\n",
       "      <td>1</td>\n",
       "      <td>7</td>\n",
       "      <td>1</td>\n",
       "    </tr>\n",
       "    <tr>\n",
       "      <th>2</th>\n",
       "      <td>35</td>\n",
       "      <td>1</td>\n",
       "      <td>4</td>\n",
       "      <td>125</td>\n",
       "      <td>0</td>\n",
       "      <td>130</td>\n",
       "      <td>1</td>\n",
       "      <td>0.3</td>\n",
       "      <td>2</td>\n",
       "      <td>7</td>\n",
       "      <td>3</td>\n",
       "    </tr>\n",
       "    <tr>\n",
       "      <th>3</th>\n",
       "      <td>36</td>\n",
       "      <td>1</td>\n",
       "      <td>4</td>\n",
       "      <td>110</td>\n",
       "      <td>0</td>\n",
       "      <td>125</td>\n",
       "      <td>1</td>\n",
       "      <td>1.0</td>\n",
       "      <td>2</td>\n",
       "      <td>6</td>\n",
       "      <td>1</td>\n",
       "    </tr>\n",
       "    <tr>\n",
       "      <th>4</th>\n",
       "      <td>38</td>\n",
       "      <td>0</td>\n",
       "      <td>4</td>\n",
       "      <td>105</td>\n",
       "      <td>0</td>\n",
       "      <td>166</td>\n",
       "      <td>0</td>\n",
       "      <td>2.8</td>\n",
       "      <td>1</td>\n",
       "      <td>7</td>\n",
       "      <td>2</td>\n",
       "    </tr>\n",
       "  </tbody>\n",
       "</table>\n",
       "</div>"
      ],
      "text/plain": [
       "   age sex cp  trestbps restecg  thalach exang  oldpeak slope thal num\n",
       "0   32   1  1        95       0      127     0      0.7     1    7   1\n",
       "1   34   1  4       115       0      154     0      0.2     1    7   1\n",
       "2   35   1  4       125       0      130     1      0.3     2    7   3\n",
       "3   36   1  4       110       0      125     1      1.0     2    6   1\n",
       "4   38   0  4       105       0      166     0      2.8     1    7   2"
      ]
     },
     "execution_count": 11,
     "metadata": {
      "tags": []
     },
     "output_type": "execute_result"
    }
   ],
   "source": [
    "#Dropping columns\n",
    "\n",
    "data.drop(['ca', 'fbs', 'chol'], axis=1, inplace=True)\n",
    "data.head()"
   ]
  },
  {
   "cell_type": "markdown",
   "metadata": {},
   "source": [
    "- We'll drop columns **\"ca\", \"fbs\", \"chol\"**.\n",
    "\n",
    "\n",
    "- **chol** because it contains only 0. So we have to drop it."
   ]
  },
  {
   "cell_type": "markdown",
   "metadata": {},
   "source": [
    "### EDA\n",
    "\n",
    "- We'll explore various features in this section.\n",
    "\n",
    "\n",
    "- We'll observe descriptive statistics which will give us brief idea about spread of individual features.\n",
    "\n",
    "\n",
    "- Then we'll also visualize some features to get better idea about discrete values.\n",
    "\n",
    "\n",
    "- Visualizing Target attribute will shows us if we've imbalanced dataset."
   ]
  },
  {
   "cell_type": "code",
   "execution_count": 12,
   "metadata": {
    "colab": {
     "base_uri": "https://localhost:8080/",
     "height": 287
    },
    "colab_type": "code",
    "id": "A42ZoIQUioSv",
    "outputId": "071bb2a8-9b8c-4de6-8254-fc8f168a6457"
   },
   "outputs": [
    {
     "data": {
      "text/html": [
       "<div>\n",
       "<style scoped>\n",
       "    .dataframe tbody tr th:only-of-type {\n",
       "        vertical-align: middle;\n",
       "    }\n",
       "\n",
       "    .dataframe tbody tr th {\n",
       "        vertical-align: top;\n",
       "    }\n",
       "\n",
       "    .dataframe thead th {\n",
       "        text-align: right;\n",
       "    }\n",
       "</style>\n",
       "<table border=\"1\" class=\"dataframe\">\n",
       "  <thead>\n",
       "    <tr style=\"text-align: right;\">\n",
       "      <th></th>\n",
       "      <th>age</th>\n",
       "      <th>trestbps</th>\n",
       "      <th>thalach</th>\n",
       "      <th>oldpeak</th>\n",
       "    </tr>\n",
       "  </thead>\n",
       "  <tbody>\n",
       "    <tr>\n",
       "      <th>count</th>\n",
       "      <td>123.000000</td>\n",
       "      <td>123.000000</td>\n",
       "      <td>123.000000</td>\n",
       "      <td>123.000000</td>\n",
       "    </tr>\n",
       "    <tr>\n",
       "      <th>mean</th>\n",
       "      <td>55.317073</td>\n",
       "      <td>130.121951</td>\n",
       "      <td>121.552846</td>\n",
       "      <td>0.636585</td>\n",
       "    </tr>\n",
       "    <tr>\n",
       "      <th>std</th>\n",
       "      <td>9.032108</td>\n",
       "      <td>22.383244</td>\n",
       "      <td>25.870802</td>\n",
       "      <td>1.032605</td>\n",
       "    </tr>\n",
       "    <tr>\n",
       "      <th>min</th>\n",
       "      <td>32.000000</td>\n",
       "      <td>80.000000</td>\n",
       "      <td>60.000000</td>\n",
       "      <td>-2.600000</td>\n",
       "    </tr>\n",
       "    <tr>\n",
       "      <th>25%</th>\n",
       "      <td>51.000000</td>\n",
       "      <td>115.000000</td>\n",
       "      <td>104.500000</td>\n",
       "      <td>0.000000</td>\n",
       "    </tr>\n",
       "    <tr>\n",
       "      <th>50%</th>\n",
       "      <td>56.000000</td>\n",
       "      <td>125.000000</td>\n",
       "      <td>121.000000</td>\n",
       "      <td>0.300000</td>\n",
       "    </tr>\n",
       "    <tr>\n",
       "      <th>75%</th>\n",
       "      <td>61.500000</td>\n",
       "      <td>145.000000</td>\n",
       "      <td>140.000000</td>\n",
       "      <td>1.450000</td>\n",
       "    </tr>\n",
       "    <tr>\n",
       "      <th>max</th>\n",
       "      <td>74.000000</td>\n",
       "      <td>200.000000</td>\n",
       "      <td>182.000000</td>\n",
       "      <td>3.700000</td>\n",
       "    </tr>\n",
       "  </tbody>\n",
       "</table>\n",
       "</div>"
      ],
      "text/plain": [
       "              age    trestbps     thalach     oldpeak\n",
       "count  123.000000  123.000000  123.000000  123.000000\n",
       "mean    55.317073  130.121951  121.552846    0.636585\n",
       "std      9.032108   22.383244   25.870802    1.032605\n",
       "min     32.000000   80.000000   60.000000   -2.600000\n",
       "25%     51.000000  115.000000  104.500000    0.000000\n",
       "50%     56.000000  125.000000  121.000000    0.300000\n",
       "75%     61.500000  145.000000  140.000000    1.450000\n",
       "max     74.000000  200.000000  182.000000    3.700000"
      ]
     },
     "execution_count": 12,
     "metadata": {
      "tags": []
     },
     "output_type": "execute_result"
    }
   ],
   "source": [
    "#Descriptive Stats\n",
    "\n",
    "data.describe()"
   ]
  },
  {
   "cell_type": "markdown",
   "metadata": {},
   "source": [
    "<b>Descriptive Statistics :</b>\n",
    "\n",
    "- We can observe from above table that we have **123 examples.**\n",
    "\n",
    "\n",
    "- The Spread of **Age** is from **32 to 74.**\n",
    "\n",
    "\n",
    "- **Resting blood pressure** is distributed from **80 to 200 (in mm Hg).**\n",
    "\n",
    "\n",
    "- Similarly, **thalach (maximum heart rate achieved)** ranges from **60 to 182.**\n",
    "\n",
    "\n",
    "- While, **oldpeak (ST depression induced by exercise relative to rest)** values ranges from **-2.60 to 3.70.**"
   ]
  },
  {
   "cell_type": "code",
   "execution_count": 13,
   "metadata": {
    "colab": {
     "base_uri": "https://localhost:8080/",
     "height": 533
    },
    "colab_type": "code",
    "id": "76H5UL8vnVCF",
    "outputId": "332f40f7-1661-4f31-fb0b-8338cd9b710d"
   },
   "outputs": [
    {
     "data": {
      "text/plain": [
       "Text(0.5, 1.0, 'Pearson Correlation')"
      ]
     },
     "execution_count": 13,
     "metadata": {
      "tags": []
     },
     "output_type": "execute_result"
    },
    {
     "data": {
      "image/png": "[encoded data removed]",
      "text/plain": [
       "<Figure size 720x576 with 2 Axes>"
      ]
     },
     "metadata": {
      "tags": []
     },
     "output_type": "display_data"
    }
   ],
   "source": [
    "#Pearson Correlation\n",
    "\n",
    "plt.figure(figsize=(10, 8))\n",
    "sns.set_context('talk')\n",
    "sns.heatmap(data.corr()*100, annot=True, cmap='YlGnBu')\n",
    "plt.title('Pearson Correlation')"
   ]
  },
  {
   "cell_type": "markdown",
   "metadata": {},
   "source": [
    "<b>Pearson Correlation (Scaled) : </b>\n",
    "\n",
    "- We can identify that there is quite **positive correlation** between **\"trestbps\" and \"age\".**\n",
    "\n",
    "\n",
    "- While, **negative correlation** is observed between **\"thalach\" and \"age\"** , i.e, **most of the peoples heartbeat has been found increasing as they grow old.**\n",
    "\n",
    "\n",
    "- Other than that we don't see much of a strong correlation in features."
   ]
  },
  {
   "cell_type": "code",
   "execution_count": 14,
   "metadata": {
    "colab": {
     "base_uri": "https://localhost:8080/",
     "height": 501
    },
    "colab_type": "code",
    "id": "cK5qmbZK8PnR",
    "outputId": "91bbcb00-37d0-4072-ae4d-f3a3b185cc2d"
   },
   "outputs": [
    {
     "data": {
      "text/plain": [
       "Text(0.5, 1.0, 'Distribution of ST depression')"
      ]
     },
     "execution_count": 14,
     "metadata": {
      "tags": []
     },
     "output_type": "execute_result"
    },
    {
     "data": {
      "image/png": "[encoded data removed]",
      "text/plain": [
       "<Figure size 1656x504 with 3 Axes>"
      ]
     },
     "metadata": {
      "tags": []
     },
     "output_type": "display_data"
    }
   ],
   "source": [
    "#Spread of Age, thalach & oldpeak\n",
    "\n",
    "plt.figure(figsize=(23,7))\n",
    "plt.subplots_adjust(wspace=0.3, hspace=0.5)\n",
    "\n",
    "plt.subplot(1, 3, 1)\n",
    "sns.distplot(data['age'] , color='orange')\n",
    "plt.title('Distribution of Age')\n",
    "\n",
    "plt.subplot(1, 3, 2)\n",
    "sns.distplot(data['thalach'], color='g')\n",
    "plt.title('Distribution of Max. Heart rate achieved')\n",
    "\n",
    "plt.subplot(1, 3, 3)\n",
    "sns.distplot(data['oldpeak'], color='r')\n",
    "plt.title('Distribution of ST depression')\n"
   ]
  },
  {
   "cell_type": "markdown",
   "metadata": {},
   "source": [
    "- Above viz. depicts the **spread of Age, thalach & oldpeak.** Just as we saw in descriptive statistics. But its more appealing here.\n",
    "\n",
    "\n",
    "- We can also opt for alternate option to visualize , i.e, **boxplot.** Boxplot will also give us better idea about **Quartiles.**"
   ]
  },
  {
   "cell_type": "code",
   "execution_count": 16,
   "metadata": {
    "colab": {
     "base_uri": "https://localhost:8080/",
     "height": 501
    },
    "colab_type": "code",
    "id": "yOsxRtm08mIg",
    "outputId": "5c9ab03c-91cc-4468-f249-1d1a2f636736"
   },
   "outputs": [
    {
     "data": {
      "text/plain": [
       "Text(0.5, 1.0, 'Age Count')"
      ]
     },
     "execution_count": 16,
     "metadata": {
      "tags": []
     },
     "output_type": "execute_result"
    },
    {
     "data": {
      "image/png": "[encoded data removed]",
      "text/plain": [
       "<Figure size 1656x504 with 1 Axes>"
      ]
     },
     "metadata": {
      "tags": []
     },
     "output_type": "display_data"
    }
   ],
   "source": [
    "#Age count\n",
    "\n",
    "plt.figure(figsize=(23,7))\n",
    "sns.countplot(data['age'])\n",
    "plt.title('Age Count')"
   ]
  },
  {
   "cell_type": "markdown",
   "metadata": {},
   "source": [
    "- Above viz. tells us the count of age.\n",
    "\n",
    "\n",
    "- We can observe that we have most people who are in range of **50 to 60 age.**"
   ]
  },
  {
   "cell_type": "code",
   "execution_count": 17,
   "metadata": {
    "colab": {
     "base_uri": "https://localhost:8080/",
     "height": 1077
    },
    "colab_type": "code",
    "id": "wSgOy1NO_EvL",
    "outputId": "d957837c-3f51-482a-f0fa-1a40d9aeb10d"
   },
   "outputs": [
    {
     "data": {
      "text/plain": [
       "([<matplotlib.axis.XTick at 0x7f9d4fbcb2e8>,\n",
       "  <matplotlib.axis.XTick at 0x7f9d4fbc3be0>,\n",
       "  <matplotlib.axis.XTick at 0x7f9d4fbc3908>],\n",
       " <a list of 3 Text xticklabel objects>)"
      ]
     },
     "execution_count": 17,
     "metadata": {
      "tags": []
     },
     "output_type": "execute_result"
    },
    {
     "data": {
      "image/png": "[encoded data removed]",
      "text/plain": [
       "<Figure size 1656x1080 with 6 Axes>"
      ]
     },
     "metadata": {
      "tags": []
     },
     "output_type": "display_data"
    }
   ],
   "source": [
    "#Exploring Remaining features\n",
    "\n",
    "sns.set_context('talk')\n",
    "plt.figure(figsize=(23,15))\n",
    "plt.subplots_adjust(wspace=0.3, hspace=1)\n",
    "\n",
    "plt.subplot(2, 3, 1)\n",
    "sns.countplot(data['sex'] , palette='Dark2')\n",
    "plt.title('Sex Count')\n",
    "plt.xticks(ticks=[0, 1], labels=['F', 'M'], rotation=90)\n",
    "\n",
    "plt.subplot(2, 3, 2)\n",
    "sns.countplot(data['cp'] , palette='Dark2')\n",
    "plt.title('Chest pain type Count')\n",
    "plt.xticks(ticks=[0,1,2,3], labels=['Typical angina', 'Atypical angina', 'Non-anginal pain', 'Asymptomatic'], rotation=90)\n",
    "\n",
    "plt.subplot(2, 3, 3)\n",
    "sns.countplot(data['restecg'] , palette='Accent')\n",
    "plt.title('Restecg Count')\n",
    "\n",
    "plt.subplot(2, 3, 4)\n",
    "sns.countplot(data['exang'] , palette='RdBu')\n",
    "plt.title('Exercise induced angina Count')\n",
    "plt.xticks(ticks=[0, 1], labels=['No', 'Yes'], rotation=90)\n",
    "\n",
    "plt.subplot(2, 3, 5)\n",
    "sns.countplot(data['slope'] , palette='rocket')\n",
    "plt.title('ST segment Count')\n",
    "plt.xticks(ticks=[0, 1, 2], labels=['Upsloping', 'Flat', 'Downsloping'], rotation=90)\n",
    "\n",
    "plt.subplot(2, 3, 6)\n",
    "sns.countplot(data['thal'] , palette='rainbow')\n",
    "plt.title('Thal Count')\n",
    "plt.xticks(ticks=[0, 1, 2], labels=['Normal', 'Fixed', 'Reversable'], rotation=90)"
   ]
  },
  {
   "cell_type": "markdown",
   "metadata": {},
   "source": [
    "**Observations :**\n",
    "\n",
    "- **Plot 1** : We can see that **Male count is dominating the Female count.**\n",
    "\n",
    "\n",
    "- **Plot 2** : We've **4 chest pain types** of which **Asymptomatic** is **most common** among the people.\n",
    "\n",
    "\n",
    "- **Plot 3** : **restecg (resting electrocardiographic results)** we've 3 classes here of which Value 0 (normal) is dominant one.\n",
    "\n",
    "\n",
    "- **Plot 4** : Exercise induced angina Count has 2 classes , **No** being dominant one.\n",
    "\n",
    "\n",
    "- **Plot 5** : For slope , **Flat** is dominant followed by **Upsloping**."
   ]
  },
  {
   "cell_type": "code",
   "execution_count": 18,
   "metadata": {
    "colab": {
     "base_uri": "https://localhost:8080/",
     "height": 512
    },
    "colab_type": "code",
    "id": "qjnwO3Fy_9A9",
    "outputId": "fceebc30-4a9a-4983-8783-08ce45726c57"
   },
   "outputs": [
    {
     "data": {
      "text/plain": [
       "Text(0.5, 1.0, 'Target Class Count')"
      ]
     },
     "execution_count": 18,
     "metadata": {
      "tags": []
     },
     "output_type": "execute_result"
    },
    {
     "data": {
      "image/png": "[encoded data removed]",
      "text/plain": [
       "<Figure size 576x576 with 1 Axes>"
      ]
     },
     "metadata": {
      "tags": []
     },
     "output_type": "display_data"
    }
   ],
   "source": [
    "#Target class count\n",
    "\n",
    "plt.figure(figsize=(8,8))\n",
    "plt.pie(data['num'].value_counts(), labels=[1,2,3,0,4], autopct='%1.2f%%', explode=[0,0,0,0.2,0.3], shadow=True, colors=['olive', 'aqua', 'grey', 'gold', 'crimson'])\n",
    "my_circle = plt.Circle( (0,0), 0.4, color='white')\n",
    "p = plt.gcf()\n",
    "p.gca().add_artist(my_circle)\n",
    "plt.title('Target Class Count')"
   ]
  },
  {
   "cell_type": "markdown",
   "metadata": {},
   "source": [
    "- Above viz. is interesting. We have **5 classes [0, 1, 2, 3, 4].**\n",
    "\n",
    "\n",
    "- Let us look at the figures :<b>\n",
    "    - Class 1 - 39.02%\n",
    "    - Class 2 - 26.02%\n",
    "    - Class 3 - 24.39%\n",
    "    - Class 0 - 06.50%\n",
    "    - Class 4 - 04.07%<br></b>\n",
    "\n",
    "\n",
    "- We can clearly Identify that **Class 1 , 2 & 3** has dominance over **Class 0 & 4.**\n",
    "\n",
    "\n",
    "- So we've **Imbalanced Dataset**, if we create model on such data it simply won't predict **Class 0 & 4** very well on **new / unseen data** because we've very less examples of them.\n",
    "\n",
    "\n",
    "- Next, we'll perform resampling on our dataset, there are 2 types of resampling techniques.\n",
    "\n",
    "    - **Over-Sampling** : In over-sampling we **upsample the examples** of **minority class.**\n",
    "    - **Down-Sampling** : In here we **eliminate data of most dominant / majority class**, it is usually brought into picture if we've failry **huge dataset with one (considering Binary values) class being the most dominant**. On **small datasets** down-sampling could cause **loss of important informatation.**\n",
    "    \n",
    "    \n",
    "- We've to perform **Over-sampling since our dataset is small.** Also, in our case we're having **multi-class imbalanced data (Class 0 & 4).** So we need to **upsample both of those classes.**\n",
    "\n",
    "\n",
    "- Now, in **over-sampling** we've few techniques like **Random Over-sampling , SMOTE (Synthetic Minority Over-sampling Technique), ADASYN (Adaptive Synthetic), etc.**\n",
    "\n",
    "\n",
    "- **Random Over-sampling** is upsampling technique in which **Random examples of minority class are repeated to match majority class.** While, we've **SMOTE** where it creates **synthetic observations** based upon the existing **minority observations.**\n",
    "\n",
    "\n",
    "- **SMOTE is widely used in practice** so we'll **implement** the same but the advanced version of it called **SVMSMOTE.**"
   ]
  },
  {
   "cell_type": "code",
   "execution_count": 0,
   "metadata": {
    "colab": {},
    "colab_type": "code",
    "id": "DUjEvuqqTD63"
   },
   "outputs": [],
   "source": [
    "#Slicing dataset based on minority class 0 & 4\n",
    "\n",
    "df0 = data[data['num'] == 0]\n",
    "df4 = data[data['num'] == 4]"
   ]
  },
  {
   "cell_type": "markdown",
   "metadata": {},
   "source": [
    "- Before documentation I had observed that **SVMSMOTE throws error** because the **examples of minority class are too less to be identified by train-test split.**\n",
    "\n",
    "\n",
    "- So my plan is to **upsmaple using Random Over-sampling a bit** and then apply **train-test split** so as to carry out **SVMSMOTE.**\n",
    "\n",
    "\n",
    "- One more point to note is we've to **split dataset before applying SMOTE** because if we perform SMOTE **before train-test split** and then build the model , clearly the **information from validation set is going to leak** & we'll get **illusion of high accuracy.**\n",
    "\n",
    "\n",
    "- Here is a **link** to **My in-detail analysis & modelling on Imbalanced dataset** : **https://github.com/GauravPadawe/Abalone_9_18-Imbalanced-Dataset-Case-Study/blob/master/Abalone%20(18%20vs%209)%20-%20Imbalanced_Data.ipynb**"
   ]
  },
  {
   "cell_type": "code",
   "execution_count": 20,
   "metadata": {
    "colab": {
     "base_uri": "https://localhost:8080/",
     "height": 327
    },
    "colab_type": "code",
    "id": "iXC0yXHqTnSp",
    "outputId": "2f4221eb-9ab4-46e4-8d37-234aba796b12"
   },
   "outputs": [
    {
     "data": {
      "text/plain": [
       "<matplotlib.axes._subplots.AxesSubplot at 0x7f9d4facafd0>"
      ]
     },
     "execution_count": 20,
     "metadata": {
      "tags": []
     },
     "output_type": "execute_result"
    },
    {
     "data": {
      "image/png": "[encoded data removed]",
      "text/plain": [
       "<Figure size 432x288 with 1 Axes>"
      ]
     },
     "metadata": {
      "tags": []
     },
     "output_type": "display_data"
    }
   ],
   "source": [
    "#Random upsample Class 0\n",
    "\n",
    "df_class_0_osamp = df0.sample(8, replace=True)\n",
    "over_sampled_df = pd.concat([data, df_class_0_osamp], axis=0)\n",
    "sns.countplot(over_sampled_df['num'])"
   ]
  },
  {
   "cell_type": "code",
   "execution_count": 21,
   "metadata": {
    "colab": {
     "base_uri": "https://localhost:8080/",
     "height": 327
    },
    "colab_type": "code",
    "id": "fuT494HKUnZL",
    "outputId": "40455596-38b1-4a3e-8c19-da170b40a216"
   },
   "outputs": [
    {
     "data": {
      "text/plain": [
       "<matplotlib.axes._subplots.AxesSubplot at 0x7f9d4fd00208>"
      ]
     },
     "execution_count": 21,
     "metadata": {
      "tags": []
     },
     "output_type": "execute_result"
    },
    {
     "data": {
      "image/png": "[encoded data removed]",
      "text/plain": [
       "<Figure size 432x288 with 1 Axes>"
      ]
     },
     "metadata": {
      "tags": []
     },
     "output_type": "display_data"
    }
   ],
   "source": [
    "#Random upsample Class 4\n",
    "\n",
    "df_class_4_osamp = df4.sample(8, replace=True)\n",
    "over_sampled_df = pd.concat([over_sampled_df, df_class_4_osamp], axis=0)\n",
    "sns.countplot(over_sampled_df['num'])"
   ]
  },
  {
   "cell_type": "markdown",
   "metadata": {},
   "source": [
    "- Above viz. is after **Random upsampling Class 0 & Class 4.**\n",
    "\n",
    "\n",
    "- Further we'll **Normalize** dataset and then **perform 30% train-test split** on it.\n",
    "\n",
    "\n",
    "- And Finally perform **SVMSMOTE on it.**"
   ]
  },
  {
   "cell_type": "code",
   "execution_count": 22,
   "metadata": {
    "colab": {
     "base_uri": "https://localhost:8080/",
     "height": 197
    },
    "colab_type": "code",
    "id": "fFMUJFUygnYz",
    "outputId": "d9df5743-ba11-473e-a057-8e63c66a6912"
   },
   "outputs": [
    {
     "data": {
      "text/html": [
       "<div>\n",
       "<style scoped>\n",
       "    .dataframe tbody tr th:only-of-type {\n",
       "        vertical-align: middle;\n",
       "    }\n",
       "\n",
       "    .dataframe tbody tr th {\n",
       "        vertical-align: top;\n",
       "    }\n",
       "\n",
       "    .dataframe thead th {\n",
       "        text-align: right;\n",
       "    }\n",
       "</style>\n",
       "<table border=\"1\" class=\"dataframe\">\n",
       "  <thead>\n",
       "    <tr style=\"text-align: right;\">\n",
       "      <th></th>\n",
       "      <th>age</th>\n",
       "      <th>sex</th>\n",
       "      <th>cp</th>\n",
       "      <th>trestbps</th>\n",
       "      <th>restecg</th>\n",
       "      <th>thalach</th>\n",
       "      <th>exang</th>\n",
       "      <th>oldpeak</th>\n",
       "      <th>slope</th>\n",
       "      <th>thal</th>\n",
       "    </tr>\n",
       "  </thead>\n",
       "  <tbody>\n",
       "    <tr>\n",
       "      <th>0</th>\n",
       "      <td>-2.606456</td>\n",
       "      <td>0.278423</td>\n",
       "      <td>-3.850819</td>\n",
       "      <td>-1.527813</td>\n",
       "      <td>-0.625195</td>\n",
       "      <td>0.232030</td>\n",
       "      <td>-0.833740</td>\n",
       "      <td>0.086182</td>\n",
       "      <td>-1.367313</td>\n",
       "      <td>0.451694</td>\n",
       "    </tr>\n",
       "    <tr>\n",
       "      <th>1</th>\n",
       "      <td>-2.378309</td>\n",
       "      <td>0.278423</td>\n",
       "      <td>0.477460</td>\n",
       "      <td>-0.614411</td>\n",
       "      <td>-0.625195</td>\n",
       "      <td>1.267473</td>\n",
       "      <td>-0.833740</td>\n",
       "      <td>-0.408828</td>\n",
       "      <td>-1.367313</td>\n",
       "      <td>0.451694</td>\n",
       "    </tr>\n",
       "    <tr>\n",
       "      <th>2</th>\n",
       "      <td>-2.264235</td>\n",
       "      <td>0.278423</td>\n",
       "      <td>0.477460</td>\n",
       "      <td>-0.157710</td>\n",
       "      <td>-0.625195</td>\n",
       "      <td>0.347079</td>\n",
       "      <td>1.199415</td>\n",
       "      <td>-0.309826</td>\n",
       "      <td>0.314603</td>\n",
       "      <td>0.451694</td>\n",
       "    </tr>\n",
       "    <tr>\n",
       "      <th>3</th>\n",
       "      <td>-2.150162</td>\n",
       "      <td>0.278423</td>\n",
       "      <td>0.477460</td>\n",
       "      <td>-0.842761</td>\n",
       "      <td>-0.625195</td>\n",
       "      <td>0.155330</td>\n",
       "      <td>1.199415</td>\n",
       "      <td>0.383187</td>\n",
       "      <td>0.314603</td>\n",
       "      <td>-0.278370</td>\n",
       "    </tr>\n",
       "    <tr>\n",
       "      <th>4</th>\n",
       "      <td>-1.922015</td>\n",
       "      <td>-3.591657</td>\n",
       "      <td>0.477460</td>\n",
       "      <td>-1.071112</td>\n",
       "      <td>-0.625195</td>\n",
       "      <td>1.727670</td>\n",
       "      <td>-0.833740</td>\n",
       "      <td>2.165222</td>\n",
       "      <td>-1.367313</td>\n",
       "      <td>0.451694</td>\n",
       "    </tr>\n",
       "  </tbody>\n",
       "</table>\n",
       "</div>"
      ],
      "text/plain": [
       "        age       sex        cp  ...   oldpeak     slope      thal\n",
       "0 -2.606456  0.278423 -3.850819  ...  0.086182 -1.367313  0.451694\n",
       "1 -2.378309  0.278423  0.477460  ... -0.408828 -1.367313  0.451694\n",
       "2 -2.264235  0.278423  0.477460  ... -0.309826  0.314603  0.451694\n",
       "3 -2.150162  0.278423  0.477460  ...  0.383187  0.314603 -0.278370\n",
       "4 -1.922015 -3.591657  0.477460  ...  2.165222 -1.367313  0.451694\n",
       "\n",
       "[5 rows x 10 columns]"
      ]
     },
     "execution_count": 22,
     "metadata": {
      "tags": []
     },
     "output_type": "execute_result"
    }
   ],
   "source": [
    "#Normalizing dataset\n",
    "\n",
    "from sklearn.preprocessing import StandardScaler\n",
    "\n",
    "scaler = StandardScaler()\n",
    "\n",
    "#cols = data.columns[:-1]\n",
    "cols = over_sampled_df.columns[:-1]\n",
    "\n",
    "#norm_df = scaler.fit_transform(data.iloc[:, :-1])\n",
    "norm_df = scaler.fit_transform(over_sampled_df.iloc[:, :-1])\n",
    "norm_df = pd.DataFrame(data=norm_df, columns=cols, index=over_sampled_df.iloc[:, :-1].index)\n",
    "norm_df.head()"
   ]
  },
  {
   "cell_type": "markdown",
   "metadata": {},
   "source": [
    "- Above we had **Normalized** dataset using **Standard Scaler.**\n",
    "\n",
    "\n",
    "- And we create new **dataframe** of **Normalized Values.**"
   ]
  },
  {
   "cell_type": "code",
   "execution_count": 23,
   "metadata": {
    "colab": {
     "base_uri": "https://localhost:8080/",
     "height": 34
    },
    "colab_type": "code",
    "id": "ycCiYkb5Jggs",
    "outputId": "12287cc2-1f6f-4b6f-b68f-c35bac5b4b03"
   },
   "outputs": [
    {
     "data": {
      "text/plain": [
       "((97, 10), (42, 10), (97,), (42,))"
      ]
     },
     "execution_count": 23,
     "metadata": {
      "tags": []
     },
     "output_type": "execute_result"
    }
   ],
   "source": [
    "#trrain-test split\n",
    "\n",
    "from sklearn.model_selection import train_test_split, cross_val_score, GridSearchCV\n",
    "\n",
    "#x = data.iloc[:, :-1]\n",
    "x = norm_df\n",
    "y = over_sampled_df['num']\n",
    "\n",
    "x_train, x_test, y_train, y_test = train_test_split(x, y, test_size=0.30, random_state=10)\n",
    "x_train.shape, x_test.shape, y_train.shape, y_test.shape"
   ]
  },
  {
   "cell_type": "markdown",
   "metadata": {},
   "source": [
    "- After splitting we get **97 examples for training** & **42 for validation.**\n",
    "\n",
    "\n",
    "- On these **97 examples** we'll perform **SVMSMOTE** and **train a statistical model.** That model will **predict** on this **validation set.**\n",
    "\n",
    "\n",
    "- We've **dedicated module** to work on **Imbalanced dataset.** By **imblearn's SVMSMOTE** it becomes easy to perform **SVMSMOTE.**\n",
    "\n",
    "\n",
    "- We will use **\"not majority\"** as our **sampling strategy** parameter as it will **not sample majority** but all **minority classes.** We've to do this in case of **multi-class Imbalanced data.**"
   ]
  },
  {
   "cell_type": "code",
   "execution_count": 24,
   "metadata": {
    "colab": {
     "base_uri": "https://localhost:8080/",
     "height": 214
    },
    "colab_type": "code",
    "id": "rpb0s0knP2lB",
    "outputId": "f6c6222d-58bb-468d-8011-18bd71e122fc"
   },
   "outputs": [
    {
     "name": "stdout",
     "output_type": "stream",
     "text": [
      "1    36\n",
      "2    22\n",
      "3    20\n",
      "0    11\n",
      "4     8\n",
      "Name: num, dtype: int64 \n",
      "\n"
     ]
    },
    {
     "name": "stderr",
     "output_type": "stream",
     "text": [
      "/usr/local/lib/python3.6/dist-packages/sklearn/externals/six.py:31: DeprecationWarning: The module is deprecated in version 0.21 and will be removed in version 0.23 since we've dropped support for Python 2.7. Please rely on the official version of six (https://pypi.org/project/six/).\n",
      "  \"(https://pypi.org/project/six/).\", DeprecationWarning)\n"
     ]
    },
    {
     "data": {
      "text/plain": [
       "array([36, 36, 36, 36, 36])"
      ]
     },
     "execution_count": 24,
     "metadata": {
      "tags": []
     },
     "output_type": "execute_result"
    }
   ],
   "source": [
    "#Applying SVMSMOTE\n",
    "\n",
    "from imblearn.over_sampling import SMOTE, ADASYN, SVMSMOTE\n",
    "\n",
    "smote = SVMSMOTE(sampling_strategy='not majority')\n",
    "x_s_res, y_s_res = smote.fit_sample(x_train, y_train)\n",
    "\n",
    "print (y_train.value_counts(), '\\n')\n",
    "np.bincount(y_s_res)"
   ]
  },
  {
   "cell_type": "markdown",
   "metadata": {},
   "source": [
    "- We can examine above that :<b>\n",
    "    - Class 1 : 36 Samples\n",
    "    - Class 2 : 22 Samples\n",
    "    - Class 3 : 20 Samples\n",
    "    - Class 0 : 11 Samples\n",
    "    - Class 4 : 08 Samples\n",
    "    \n",
    "    \n",
    "- And After **SVMSMOTE application** we get **36 Samples of each class.**"
   ]
  },
  {
   "cell_type": "markdown",
   "metadata": {},
   "source": [
    "### Building a Statistical model using SVM Classifier\n",
    "\n",
    "\n",
    "- We need to understand that **Accuracy Score is not so important here.**\n",
    "\n",
    "\n",
    "- Our focus must be on **Classification Report** where we have important metrics like **Recall** , **Precision** & **F1-Score.**\n",
    "\n",
    "\n",
    "- **Accuracy Score** is just **illusion.** For us **best metric** is **Recall Score.** It will show us how much **weight** our **individual classes get.**\n",
    "\n",
    "\n",
    "### How SVM Works ?\n",
    "\n",
    "- SVM plots **optimal hyperplane** to **divide classes.**\n",
    "\n",
    "\n",
    "- It creates **margin on each side of hyperplane / decision boundary.**\n",
    "\n",
    "\n",
    "- **Margin** is the **sum of distance D+ & D-** which emerges from hyperplane.\n",
    "\n",
    "\n",
    "- The **data point of one class which lies closer to other class forms a margin.** So we get **2 margins parallel to hyper plane.**\n",
    "\n",
    "\n",
    "- Those **2 data points of opposite class** which forms our margin are also known as **Support Vectors.**\n",
    "\n",
    "\n",
    "- The **more** the value of **D- + D+** , the **more accurate is our classification** because it makes sure that **our both classes lie farther from each other.** This **phenomena** is called **Maximal Margin Hyperplane.**\n",
    "\n",
    "\n",
    "- If we can seperate 2 different classes by a single line then we call it as **linearly seperable** data (as shown in below figure.)\n",
    "\n",
    "![alt text](https://ai2-s2-public.s3.amazonaws.com/figures/2017-08-08/8bf7212a3ccaa93fcf202654c8e123a62bde71d8/2-Figure1-1.png)<br>\n",
    "\n",
    "\n",
    "- Sometimes our data is **non-linearly seperable** ,i.e, can't seperate it by line (as shown in below figure).\n",
    "\n",
    "![alt text](https://i.stack.imgur.com/y5uMX.png)\n",
    "\n",
    "- As we can observe that it is **not possible to divide these classes by line** because the **class in blue is surrounding class in red** making it non-seperable and so we call it **Non-linearly seperable data.**\n",
    "\n",
    "\n",
    "- In SVM we've a function called **Kernel Function / Kernel Trick.** Kernel Trick solves our problem of Non-linearly seperable data. It takes **Low dimensional data** as **input** and **outputs** them in **Higher dimension space** so that it can be divided by **hyperplane.** (Refer to figure below)\n",
    "\n",
    "![alt text](https://cdn-images-1.medium.com/freeze/max/1000/1*GLdskOoCHJ73H6y4iPgYNQ.png?q=20)\n",
    "\n",
    "- We can observe in **right figure** that how our data looks in **2D.** And after **applying Kernel Trick** we get **3D** output which **left figure** depicts. We can see **2 classes** being **divided by a Hyperplane (in green).**"
   ]
  },
  {
   "cell_type": "code",
   "execution_count": 28,
   "metadata": {
    "colab": {
     "base_uri": "https://localhost:8080/",
     "height": 610
    },
    "colab_type": "code",
    "id": "EfGl_HsAK91Z",
    "outputId": "c370f062-99c9-4b4d-bb3d-ffdf5fbc290a"
   },
   "outputs": [
    {
     "name": "stdout",
     "output_type": "stream",
     "text": [
      "Accuracy Score : 0.42857142857142855\n",
      "Validation Score :  0.42857142857142855\n",
      "              precision    recall  f1-score   support\n",
      "\n",
      "           0       0.80      0.57      0.67         7\n",
      "           1       0.33      0.40      0.36        10\n",
      "           2       0.10      0.33      0.15         3\n",
      "           3       0.50      0.45      0.48        11\n",
      "           4       0.80      0.36      0.50        11\n",
      "\n",
      "    accuracy                           0.43        42\n",
      "   macro avg       0.51      0.42      0.43        42\n",
      "weighted avg       0.56      0.43      0.46        42\n",
      "\n"
     ]
    },
    {
     "name": "stderr",
     "output_type": "stream",
     "text": [
      "/usr/local/lib/python3.6/dist-packages/sklearn/svm/base.py:241: ConvergenceWarning: Solver terminated early (max_iter=650).  Consider pre-processing your data with StandardScaler or MinMaxScaler.\n",
      "  % self.max_iter, ConvergenceWarning)\n"
     ]
    },
    {
     "data": {
      "text/plain": [
       "<matplotlib.axes._subplots.AxesSubplot at 0x7f9d4b14b550>"
      ]
     },
     "execution_count": 28,
     "metadata": {
      "tags": []
     },
     "output_type": "execute_result"
    },
    {
     "data": {
      "image/png": "[encoded data removed]",
      "text/plain": [
       "<Figure size 432x288 with 2 Axes>"
      ]
     },
     "metadata": {
      "tags": []
     },
     "output_type": "display_data"
    }
   ],
   "source": [
    "#Importing SVM Classifier And required metrics\n",
    "\n",
    "from sklearn.svm import SVC\n",
    "from sklearn.metrics import accuracy_score, classification_report, confusion_matrix\n",
    "\n",
    "est_svc = SVC(gamma='auto', kernel='linear', max_iter=650, decision_function_shape='ovo').fit(x_s_res, y_s_res)\n",
    "pred = est_svc.predict(x_test)\n",
    "\n",
    "print ('Accuracy Score :', accuracy_score(pred, y_test))\n",
    "print ('Validation Score : ', est_svc.score(x_test, y_test))\n",
    "print (classification_report(pred, y_test))\n",
    "\n",
    "sns.heatmap(confusion_matrix(pred, y_test), annot=True, cmap='OrRd_r')"
   ]
  },
  {
   "cell_type": "markdown",
   "metadata": {},
   "source": [
    "**Interpretation :**\n",
    "\n",
    "- Above we have **confusion matrix** which is quite confusing to Interpret. So below is the easiest way to read it. **True Positives and True Negative** are **correct classification.** Or in short we can say that **Diagonal values are correct.**<br>\n",
    "\n",
    "![alt text](https://blog.exsilio.com/wp-content/uploads/2016/09/table-blog.png)<br>\n",
    "\n",
    "- Below is basic interpretation of What **Precision & Recall** is :<br>\n",
    "\n",
    "![alt text](https://i.stack.imgur.com/U0hjG.png)<br>\n",
    "\n",
    "- We can see that how Recall Score in our case is :<br><b>\n",
    "    - Class 0 : 4 are classified correct (0.57 Recall).\n",
    "    - Class 1 : 4 are classified correct (0.40 Recall).\n",
    "    - Class 2 : 1 is classified correct (0.33 Recall).\n",
    "    - Class 3 : 5 are classified correct (0.45 Recall).\n",
    "    - Class 4 : 4 are classified correct (0.36 Recall).\n",
    "    \n",
    "\n",
    "- Also our **Accuracy and Validation Score** are close to each other meaning our model **isn't suffering from under-fitting nor over-fitting.**\n",
    "\n",
    "\n",
    "- Can't say model is good but it is better. Let us try to do **Parameter Tuning** and see how it **optimizes** our model to get best out of it. "
   ]
  },
  {
   "cell_type": "markdown",
   "metadata": {},
   "source": [
    "### Hyper-Parameter Tuning\n",
    "\n",
    "- We'll create a set of Parameters and pass it in GridSearchCV having 5-Fold Cross-Validation.\n",
    "\n",
    "\n",
    "- GridSearch has a attribute called \"best_params_\" which can tell us what parameters were chosen as best from all that we passed to it.\n",
    "\n",
    "\n",
    "- So I'm going with these set of Parameters<b>\n",
    "    - Kernel : Linear / Poly / RBF (Radial Basis Function)\n",
    "    - C (Penalty) : Ranging from 1 to 5\n",
    "    - Gamma : Auto / Scale\n",
    "    - Decision Function Shape : OVO (One-vs-One) / OVR (One-vs-Rest)\n",
    "    - Maximum Iteration : 500 to 1000 by difference of 10"
   ]
  },
  {
   "cell_type": "code",
   "execution_count": null,
   "metadata": {
    "colab": {
     "base_uri": "https://localhost:8080/",
     "height": 129067
    },
    "colab_type": "code",
    "id": "GOiPuLv0c34c",
    "outputId": "73846d18-f45f-49f6-d811-c41898e68316"
   },
   "outputs": [],
   "source": [
    "#Hyper Parameter tuning\n",
    "\n",
    "parameters = {'kernel':('linear', 'rbf', 'poly'), \n",
    "              'C':np.arange(1, 5), 'gamma':('scale', 'auto'),\n",
    "              'decision_function_shape':('ovr', 'ovo'), 'max_iter':np.arange(500,1000,10)}\n",
    "\n",
    "svc = SVC()\n",
    "\n",
    "clf = GridSearchCV(svc, parameters, cv=5).fit(x_s_res, y_s_res)"
   ]
  },
  {
   "cell_type": "code",
   "execution_count": 30,
   "metadata": {
    "colab": {
     "base_uri": "https://localhost:8080/",
     "height": 572
    },
    "colab_type": "code",
    "id": "mCLn9MIFxMAc",
    "outputId": "5875fa98-2245-468d-e927-5dbb8de60874"
   },
   "outputs": [
    {
     "name": "stdout",
     "output_type": "stream",
     "text": [
      "Best Parameters :  {'C': 3, 'decision_function_shape': 'ovr', 'gamma': 'auto', 'kernel': 'rbf', 'max_iter': 500}\n",
      "Accuracy Score : 0.4523809523809524\n",
      "Validation Score :  0.4523809523809524\n",
      "              precision    recall  f1-score   support\n",
      "\n",
      "           0       1.00      0.71      0.83         7\n",
      "           1       0.42      0.38      0.40        13\n",
      "           2       0.20      0.50      0.29         4\n",
      "           3       0.30      0.43      0.35         7\n",
      "           4       0.80      0.36      0.50        11\n",
      "\n",
      "    accuracy                           0.45        42\n",
      "   macro avg       0.54      0.48      0.47        42\n",
      "weighted avg       0.57      0.45      0.48        42\n",
      "\n"
     ]
    },
    {
     "data": {
      "text/plain": [
       "<matplotlib.axes._subplots.AxesSubplot at 0x7f9d4a666780>"
      ]
     },
     "execution_count": 30,
     "metadata": {
      "tags": []
     },
     "output_type": "execute_result"
    },
    {
     "data": {
      "image/png": "[encoded data removed]",
      "text/plain": [
       "<Figure size 432x288 with 2 Axes>"
      ]
     },
     "metadata": {
      "tags": []
     },
     "output_type": "display_data"
    }
   ],
   "source": [
    "print ('Best Parameters : ', clf.best_params_)\n",
    "print ('Accuracy Score :', accuracy_score(clf.predict(x_test), y_test))\n",
    "print ('Validation Score : ', clf.score(x_test, y_test))\n",
    "print (classification_report(clf.predict(x_test), y_test))\n",
    "\n",
    "sns.heatmap(confusion_matrix(clf.predict(x_test), y_test), annot=True, cmap='seismic')"
   ]
  },
  {
   "cell_type": "markdown",
   "metadata": {
    "colab": {},
    "colab_type": "code",
    "id": "Quc-FCcNOkRT"
   },
   "source": [
    "- We can now see that our **model's performance has improved.** Recall Scores are better compared to What we had earlier. Let us examine them.\n",
    "\n",
    "\n",
    "- **Earlier Results were as follows :**<b>\n",
    "    - Class 0 : 4 are classified correct (0.57 Recall).\n",
    "    - Class 1 : 4 are classified correct (0.40 Recall).\n",
    "    - Class 2 : 1 is classified correct (0.33 Recall).\n",
    "    - Class 3 : 5 are classified correct (0.45 Recall).\n",
    "    - Class 4 : 4 are classified correct (0.36 Recall).\n",
    "    \n",
    "    \n",
    "- Post Parameter Tuning Results are as follows :**<b>\n",
    "    - Class 0 : 5 are classified correct (0.71 Recall).\n",
    "    - Class 1 : 5 are classified correct (0.38 Recall).\n",
    "    - Class 2 : 2 is classified correct (0.50 Recall).\n",
    "    - Class 3 : 3 are classified correct (0.43 Recall).\n",
    "    - Class 4 : 4 are classified correct (0.36 Recall).\n",
    "    \n",
    "    \n",
    "- We can observe that there is **Significant increase in recall** for some classes. We can say that Parameter tuning having these Parameters defined **{'C': 3, 'decision_function_shape': 'ovr', 'gamma': 'auto', 'kernel': 'rbf', 'max_iter': 500} gives us decent improved scores** probably much better for Classification.\n",
    "\n",
    "\n",
    "- Since the dataset was suffering from **multi-class imbalance** , we performed **over-sampling** and now our model can **predict** well on **unseen data** , it would definitely **predict Class 0 & Class 4** as it has got some **weightage.** This would had been not possible if we'll create model on Imbalanced data.\n",
    "\n",
    "\n",
    "- Also, we can see the **Slight increase in Accuracy.**"
   ]
  },
  {
   "cell_type": "markdown",
   "metadata": {},
   "source": [
    "### Conclusion :\n",
    "\n",
    "- **We figured out how our dataset was suffering from multi-class imbalance.**\n",
    "\n",
    "\n",
    "- **We handled imbalance dataset with the help of combined efforts of Random Upsampling and SMOTE technique.**\n",
    "\n",
    "\n",
    "- **Since my objective was to just use SVM so I built a model using only SVM and did some parameter tuning.**"
   ]
  },
  {
   "cell_type": "markdown",
   "metadata": {},
   "source": [
    "### What's next ?\n",
    "\n",
    "- We can use **various algorithms** to make **better classification.**\n",
    "\n",
    "\n",
    "- We can also try to **add more Parameters** for **Tuning the model.**\n",
    "\n",
    "\n",
    "- One can also try to fill **missing values** by **forward / backward** fill.\n",
    "\n",
    "\n",
    "- One can try also **implement Deep Neural Network** Modelling."
   ]
  }
 ],
 "metadata": {
  "accelerator": "GPU",
  "colab": {
   "collapsed_sections": [],
   "name": "SVM - Heart disease prediction.ipynb",
   "provenance": [],
   "version": "0.3.2"
  },
  "kernelspec": {
   "display_name": "Python 3",
   "language": "python",
   "name": "python3"
  },
  "language_info": {
   "codemirror_mode": {
    "name": "ipython",
    "version": 3
   },
   "file_extension": ".py",
   "mimetype": "text/x-python",
   "name": "python",
   "nbconvert_exporter": "python",
   "pygments_lexer": "ipython3",
   "version": "3.7.1"
  }
 },
 "nbformat": 4,
 "nbformat_minor": 1
}
